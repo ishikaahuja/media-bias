{
 "cells": [
  {
   "cell_type": "code",
   "execution_count": 40,
   "metadata": {},
   "outputs": [
    {
     "name": "stdout",
     "output_type": "stream",
     "text": [
      "C:\\WINDOWS\\system32\\cmd.exe\n",
      "newyorker.com\n",
      "==========================================================\n",
      "FETCHING PREDEFINED SOURCE: newyorker.com\n",
      "==========================================================\n"
     ]
    },
    {
     "ename": "ValueError",
     "evalue": "Invalid format string",
     "output_type": "error",
     "traceback": [
      "\u001b[1;31m---------------------------------------------------------------------------\u001b[0m",
      "\u001b[1;31mValueError\u001b[0m                                Traceback (most recent call last)",
      "\u001b[1;32m<ipython-input-40-82b22a0790aa>\u001b[0m in \u001b[0;36m<module>\u001b[1;34m\u001b[0m\n\u001b[0;32m     65\u001b[0m             \u001b[0mbase_name\u001b[0m \u001b[1;33m=\u001b[0m \u001b[1;33m(\u001b[0m\u001b[1;34m\"webhose_{}\"\u001b[0m\u001b[1;33m.\u001b[0m\u001b[0mformat\u001b[0m\u001b[1;33m(\u001b[0m\u001b[0mdomain\u001b[0m\u001b[1;33m)\u001b[0m\u001b[1;33m)\u001b[0m\u001b[1;33m\u001b[0m\u001b[1;33m\u001b[0m\u001b[0m\n\u001b[0;32m     66\u001b[0m             \u001b[0msc\u001b[0m \u001b[1;33m=\u001b[0m \u001b[0mWebhoseScrape\u001b[0m\u001b[1;33m(\u001b[0m\u001b[0mtoken\u001b[0m\u001b[1;33m=\u001b[0m\u001b[0mapi_key\u001b[0m\u001b[1;33m,\u001b[0m \u001b[0mbase_name\u001b[0m\u001b[1;33m=\u001b[0m\u001b[0mbase_name\u001b[0m\u001b[1;33m)\u001b[0m\u001b[1;33m\u001b[0m\u001b[1;33m\u001b[0m\u001b[0m\n\u001b[1;32m---> 67\u001b[1;33m             \u001b[0msc\u001b[0m\u001b[1;33m.\u001b[0m\u001b[0mfetch_articles\u001b[0m\u001b[1;33m(\u001b[0m\u001b[0mnum_pages\u001b[0m\u001b[1;33m=\u001b[0m\u001b[1;36m3\u001b[0m\u001b[1;33m,\u001b[0m \u001b[0monly_politics\u001b[0m\u001b[1;33m=\u001b[0m\u001b[1;32mFalse\u001b[0m\u001b[1;33m,\u001b[0m \u001b[0mdomain\u001b[0m\u001b[1;33m=\u001b[0m\u001b[0mdomain\u001b[0m\u001b[1;33m)\u001b[0m\u001b[1;33m\u001b[0m\u001b[1;33m\u001b[0m\u001b[0m\n\u001b[0m",
      "\u001b[1;32mC:\\Users\\ISHIKA\\Desktop\\media-bias-political-news-master\\media-bias-political-news-master\\data_collection\\webhose\\scraper.py\u001b[0m in \u001b[0;36mfetch_articles\u001b[1;34m(self, *args, **kwargs)\u001b[0m\n\u001b[0;32m     65\u001b[0m         \u001b[0mwebhoseio\u001b[0m\u001b[1;33m.\u001b[0m\u001b[0mconfig\u001b[0m\u001b[1;33m(\u001b[0m\u001b[0mtoken\u001b[0m\u001b[1;33m=\u001b[0m\u001b[0mself\u001b[0m\u001b[1;33m.\u001b[0m\u001b[0mtoken\u001b[0m\u001b[1;33m)\u001b[0m\u001b[1;33m\u001b[0m\u001b[1;33m\u001b[0m\u001b[0m\n\u001b[0;32m     66\u001b[0m         \u001b[0mself\u001b[0m\u001b[1;33m.\u001b[0m\u001b[0m_reset_news\u001b[0m\u001b[1;33m(\u001b[0m\u001b[1;33m)\u001b[0m\u001b[1;33m\u001b[0m\u001b[1;33m\u001b[0m\u001b[0m\n\u001b[1;32m---> 67\u001b[1;33m         \u001b[0mparams\u001b[0m \u001b[1;33m=\u001b[0m \u001b[0mself\u001b[0m\u001b[1;33m.\u001b[0m\u001b[0m_get_params\u001b[0m\u001b[1;33m(\u001b[0m\u001b[0mnum_pages\u001b[0m\u001b[1;33m,\u001b[0m \u001b[0monly_politics\u001b[0m\u001b[1;33m,\u001b[0m\u001b[0mdomain\u001b[0m\u001b[1;33m)\u001b[0m\u001b[1;33m\u001b[0m\u001b[1;33m\u001b[0m\u001b[0m\n\u001b[0m\u001b[0;32m     68\u001b[0m         \u001b[0moutput\u001b[0m \u001b[1;33m=\u001b[0m \u001b[0mwebhoseio\u001b[0m\u001b[1;33m.\u001b[0m\u001b[0mquery\u001b[0m\u001b[1;33m(\u001b[0m\u001b[1;34m\"filterWebContent\"\u001b[0m\u001b[1;33m,\u001b[0m \u001b[0mparams\u001b[0m\u001b[1;33m)\u001b[0m\u001b[1;33m\u001b[0m\u001b[1;33m\u001b[0m\u001b[0m\n\u001b[0;32m     69\u001b[0m         \u001b[0mfetched_articles_count\u001b[0m \u001b[1;33m=\u001b[0m \u001b[1;36m0\u001b[0m\u001b[1;33m\u001b[0m\u001b[1;33m\u001b[0m\u001b[0m\n",
      "\u001b[1;32mC:\\Users\\ISHIKA\\Desktop\\media-bias-political-news-master\\media-bias-political-news-master\\data_collection\\webhose\\scraper.py\u001b[0m in \u001b[0;36m_get_params\u001b[1;34m(self, domain, only_politics)\u001b[0m\n\u001b[0;32m     43\u001b[0m             \u001b[1;34m\"q\"\u001b[0m\u001b[1;33m:\u001b[0m \u001b[1;34m\" \"\u001b[0m\u001b[1;33m.\u001b[0m\u001b[0mjoin\u001b[0m\u001b[1;33m(\u001b[0m\u001b[0mqueries\u001b[0m\u001b[1;33m)\u001b[0m\u001b[1;33m,\u001b[0m\u001b[1;33m\u001b[0m\u001b[1;33m\u001b[0m\u001b[0m\n\u001b[0;32m     44\u001b[0m             \u001b[1;34m\"sort\"\u001b[0m\u001b[1;33m:\u001b[0m \u001b[1;34m\"crawled\"\u001b[0m\u001b[1;33m,\u001b[0m\u001b[1;33m\u001b[0m\u001b[1;33m\u001b[0m\u001b[0m\n\u001b[1;32m---> 45\u001b[1;33m             \u001b[1;34m\"ts\"\u001b[0m\u001b[1;33m:\u001b[0m \u001b[0mtime_30_days\u001b[0m\u001b[1;33m.\u001b[0m\u001b[0mstrftime\u001b[0m\u001b[1;33m(\u001b[0m\u001b[1;34m\"%m\"\u001b[0m\u001b[1;33m)\u001b[0m\u001b[1;33m\u001b[0m\u001b[1;33m\u001b[0m\u001b[0m\n\u001b[0m\u001b[0;32m     46\u001b[0m         }\n\u001b[0;32m     47\u001b[0m \u001b[1;33m\u001b[0m\u001b[0m\n",
      "\u001b[1;31mValueError\u001b[0m: Invalid format string"
     ]
    }
   ],
   "source": [
    "import os\n",
    "import sys\n",
    "from data_collection.webhose.scraper import WebhoseScrape\n",
    "\n",
    "liberal_news = [\n",
    "    \"newyorker.com\",\n",
    "    \"motherjones.com\",\n",
    "    \"slate.com\",\n",
    "    \"msnbc.com\",\n",
    "    \"vanityfair.com\",\n",
    "    \"cnn.com\",\n",
    "    \"washingtonpost.com\",\n",
    "    \"theguardian.com\",\n",
    "    \"nytimes.com\",\n",
    "    \"politico.com\",\n",
    "    \"democracynow.org\",\n",
    "    \"npr.org\",\n",
    "    \"theatlantic.com\",\n",
    "    \"nbcnews.com\"\n",
    "]\n",
    "\n",
    "conservative_news = [\n",
    "    \"spectator.org\",\n",
    "    \"foxnews.com\",\n",
    "    \"nationalreview.com\",\n",
    "    \"reason.com\",\n",
    "    \"dailywire.com\",\n",
    "    \"thefederalist.com\",\n",
    "    \"washingtontimes.com\",\n",
    "    \"washingtonexaminer.com\",\n",
    "    \"nypost.com\",\n",
    "    \"theblaze.com\",\n",
    "    \"dailycaller.com\"\n",
    "]\n",
    "\n",
    "central = [\n",
    "    \"reuters.com\",\n",
    "    \"csmonitor.com\",\n",
    "    \"fivethirtyeight.com\",\n",
    "    \"bbc.com\",\n",
    "    \"forbes.com\",\n",
    "]\n",
    "\n",
    "if __name__ == '__main__':\n",
    "    api_key = os.environ[\"ComSpec\"]\n",
    "    print(api_key)\n",
    "\n",
    "    only_politics = False\n",
    "    for arg in sys.argv:\n",
    "        if arg == \"--only-politics\":\n",
    "            only_politics = True\n",
    "\n",
    "    if only_politics:\n",
    "        print(\"==========================================================\")\n",
    "        print(\"FETCHING ONLY POLITICS\")\n",
    "        print(\"==========================================================\")\n",
    "        sc = WebhoseScrape(token=api_key, base_name=\"only-politics\")\n",
    "        sc.fetch_articles(num_pages=100, only_politics=True)\n",
    "    else:\n",
    "        for domain in liberal_news + conservative_news + central:\n",
    "            print(domain)\n",
    "            print(\"==========================================================\")\n",
    "            print(\"FETCHING PREDEFINED SOURCE: {}\".format(domain))\n",
    "            print(\"==========================================================\")\n",
    "            base_name = (\"webhose_{}\".format(domain))\n",
    "            sc = WebhoseScrape(token=api_key, base_name=base_name)\n",
    "            sc.fetch_articles(num_pages=3, only_politics=False, domain=domain)\n"
   ]
  },
  {
   "cell_type": "code",
   "execution_count": 28,
   "metadata": {},
   "outputs": [],
   "source": [
    "import webhose\n",
    "webhose.config(token=\"ffa19697-f2f0-4ca1-b7c7-f1175126ed27\")"
   ]
  },
  {
   "cell_type": "code",
   "execution_count": null,
   "metadata": {},
   "outputs": [],
   "source": []
  },
  {
   "cell_type": "code",
   "execution_count": null,
   "metadata": {},
   "outputs": [],
   "source": []
  }
 ],
 "metadata": {
  "kernelspec": {
   "display_name": "Python 3",
   "language": "python",
   "name": "python3"
  },
  "language_info": {
   "codemirror_mode": {
    "name": "ipython",
    "version": 3
   },
   "file_extension": ".py",
   "mimetype": "text/x-python",
   "name": "python",
   "nbconvert_exporter": "python",
   "pygments_lexer": "ipython3",
   "version": "3.7.6"
  }
 },
 "nbformat": 4,
 "nbformat_minor": 4
}
